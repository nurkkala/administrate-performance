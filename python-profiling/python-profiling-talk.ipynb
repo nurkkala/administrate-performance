{
 "cells": [
  {
   "cell_type": "markdown",
   "id": "01c894ee-3511-43b1-8179-9dc7c0b29cb8",
   "metadata": {
    "tags": []
   },
   "source": [
    "# Profiling Python Programs\n",
    "\n",
    "**Lightning Talk**\n",
    "\n",
    "**Dr. Tom Nurkkala**\n",
    "\n",
    "**W/03-May-2023**"
   ]
  },
  {
   "cell_type": "markdown",
   "id": "d3b5f51f-6395-4736-9d2d-576b1d9af836",
   "metadata": {},
   "source": [
    "# Who Cares?\n",
    "\n",
    "Why should we care about profiling our code?\n",
    "It gives us a deeper understanding of run-time behavior\n",
    "and allows us to:\n",
    "\n",
    "1. Find and eliminate performance bottlenecks\n",
    "1. Minimize run time\n",
    "1. Mimimize hosting cost\n",
    "1. Improve customer experience"
   ]
  },
  {
   "cell_type": "markdown",
   "id": "ad8d76b6-1019-4c2f-91c0-be6f8362239a",
   "metadata": {},
   "source": [
    "# Jupyter\n",
    "\n",
    "This is a [Jupyter](https://jupyter.org/) notebook.\n",
    "It's essentially an _executable document_\n",
    "that can contain **text cells** (like this),\n",
    "formatted using Markdown, or:"
   ]
  },
  {
   "cell_type": "code",
   "execution_count": 1,
   "id": "9a1ff5f5-93d7-44c8-9c34-265ddd2dc8ee",
   "metadata": {
    "tags": []
   },
   "outputs": [],
   "source": [
    "def hello_jupyter():\n",
    "    print(\"Code cells (like this)\")"
   ]
  },
  {
   "cell_type": "markdown",
   "id": "50ae23ce-265f-4171-a30f-b88078a0029c",
   "metadata": {},
   "source": [
    "which can be executed within the Notebook.\n",
    "Any value returned by execution of a code cell appears\n",
    "in a output cell. For example:"
   ]
  },
  {
   "cell_type": "code",
   "execution_count": 2,
   "id": "8b26153f-aa19-4c96-9faa-acb0fb19064b",
   "metadata": {
    "tags": []
   },
   "outputs": [
    {
     "name": "stdout",
     "output_type": "stream",
     "text": [
      "Code cells (like this)\n"
     ]
    }
   ],
   "source": [
    "hello_jupyter()"
   ]
  },
  {
   "cell_type": "markdown",
   "id": "89422b67-8e63-40c2-81ef-f45f158aee35",
   "metadata": {},
   "source": [
    "A Jupyter notebook usually starts by importing whatever packages\n",
    "will be needed by the remainder of the notebook."
   ]
  },
  {
   "cell_type": "code",
   "execution_count": 3,
   "id": "a52dc25a-e4d4-4072-9ec3-0b287c496039",
   "metadata": {
    "tags": []
   },
   "outputs": [],
   "source": [
    "import functools\n",
    "import io\n",
    "import pstats\n",
    "import time\n",
    "import random\n",
    "import math\n",
    "import pandas as pd\n",
    "from cProfile import Profile\n",
    "from datetime import datetime\n",
    "from dataclasses import dataclass\n",
    "from enum import Enum\n",
    "from heapq import merge"
   ]
  },
  {
   "cell_type": "markdown",
   "id": "cbad9a6e-ca73-4036-8f4a-551e39b6dcc8",
   "metadata": {},
   "source": [
    "# Python Decorator Refresher\n",
    "\n",
    "From the Python glossary:\n",
    "\n",
    "> A function returning another function, usually applied as a function transformation using the `@wrapper` syntax\n",
    "\n",
    "## Simple Decorator\n",
    "\n",
    "This decorator illustrates the pattern:\n",
    "\n",
    "1. Accept a function, `func`\n",
    "1. Wrap `func` with some new behavior\n",
    "1. Return the wrapped version of the function."
   ]
  },
  {
   "cell_type": "code",
   "execution_count": 4,
   "id": "4b3c37e2-7c38-41e0-8af1-6ccec0645f35",
   "metadata": {
    "tags": []
   },
   "outputs": [],
   "source": [
    "def simple_decorator(func):\n",
    "    def wrapper():\n",
    "        print(f\"before {func.__name__}\")\n",
    "        func()\n",
    "        print(f\"after {func.__name__}\");\n",
    "    return wrapper"
   ]
  },
  {
   "cell_type": "markdown",
   "id": "0301688f-7b17-40bf-a10f-98872704f2e0",
   "metadata": {},
   "source": [
    "Invoke the decorator using the `@` syntax.\n",
    "This is synactic sugar for:\n",
    "```python\n",
    "print_hello = simple_decorator(print_hello)\n",
    "```"
   ]
  },
  {
   "cell_type": "code",
   "execution_count": 5,
   "id": "b0024fc2-b406-46c5-a815-a98f42d66805",
   "metadata": {
    "tags": []
   },
   "outputs": [
    {
     "name": "stdout",
     "output_type": "stream",
     "text": [
      "before print_hello\n",
      "hello, world\n",
      "after print_hello\n"
     ]
    }
   ],
   "source": [
    "@simple_decorator\n",
    "def print_hello(who=\"world\"):\n",
    "    print(f\"hello, {who}\")\n",
    "\n",
    "print_hello()"
   ]
  },
  {
   "cell_type": "markdown",
   "id": "d43d03d7-cbef-4c6d-8210-38fd91f6991e",
   "metadata": {},
   "source": [
    "Note that we're not passing any arguments to the wrapped function,\n",
    "nor are we returning its return value.\n",
    "In fact, if we invoked the `print_hello` function with an argument\n",
    "after wrapping it, Python would complain:\n",
    "```\n",
    "TypeError: simple_decorator.<locals>.wrapper() takes 0 positional arguments but 1 was given\n",
    "```\n",
    "Importantly, the error comes from `wrapper`, which has an empty parameter list."
   ]
  },
  {
   "cell_type": "markdown",
   "id": "2027cc0c-473a-4e1b-958f-6e486a486f43",
   "metadata": {},
   "source": [
    "## Support Arguments, Return Value\n",
    "\n",
    "Augment the `wrapper` function to expect arbitrary arguments\n",
    "and to return the value of the wrapped function."
   ]
  },
  {
   "cell_type": "code",
   "execution_count": 6,
   "id": "083314d6-e7c4-49aa-97c5-367adff5a0df",
   "metadata": {
    "tags": []
   },
   "outputs": [],
   "source": [
    "def args_and_vals_decorator(func):\n",
    "    def wrapper(*args, **kwargs):\n",
    "        print(f\"before {func.__name__}\")\n",
    "        rtn = func(*args, **kwargs)\n",
    "        print(f\"after {func.__name__}\");\n",
    "        return rtn\n",
    "    return wrapper        "
   ]
  },
  {
   "cell_type": "markdown",
   "id": "964f989e-520e-413d-9031-707a85f135ac",
   "metadata": {},
   "source": [
    "Now we can:\n",
    "\n",
    "1. Invoke the wrapped function with arguments, which will be passed along to the (wrapped) `return_hello` function.\n",
    "1. Access the return value from `return_hello`"
   ]
  },
  {
   "cell_type": "code",
   "execution_count": 7,
   "id": "eea6a4d9-b278-4790-b8bd-8390bd7d7dd7",
   "metadata": {
    "tags": []
   },
   "outputs": [
    {
     "name": "stdout",
     "output_type": "stream",
     "text": [
      "before return_hello\n",
      "after return_hello\n"
     ]
    },
    {
     "data": {
      "text/plain": [
       "'hello, gracie'"
      ]
     },
     "execution_count": 7,
     "metadata": {},
     "output_type": "execute_result"
    }
   ],
   "source": [
    "@args_and_vals_decorator\n",
    "def return_hello(who=\"world\"):\n",
    "    return f\"hello, {who}\"\n",
    "\n",
    "return_hello(\"gracie\")"
   ]
  },
  {
   "cell_type": "markdown",
   "id": "83cb297c-fb81-43f1-9a6e-c2d55960aeb3",
   "metadata": {},
   "source": [
    "## Wrapper Weirdness\n",
    "\n",
    "By wrapping a function as we have done,\n",
    "we're losing some information about the wrapped function.\n",
    "The value of `return_hello` is no longer the function it was defined to be initially:"
   ]
  },
  {
   "cell_type": "code",
   "execution_count": 8,
   "id": "fcd7aeb3-a933-417a-99f0-7a7680a1ef21",
   "metadata": {
    "tags": []
   },
   "outputs": [
    {
     "data": {
      "text/plain": [
       "<function __main__.args_and_vals_decorator.<locals>.wrapper(*args, **kwargs)>"
      ]
     },
     "execution_count": 8,
     "metadata": {},
     "output_type": "execute_result"
    }
   ],
   "source": [
    "return_hello"
   ]
  },
  {
   "cell_type": "markdown",
   "id": "1882005b-5137-46f5-a1dc-598c2cc3efe5",
   "metadata": {},
   "source": [
    "Python's `functools` package comes to the rescue,\n",
    "using Python's considerable introspection powers\n",
    "to expose the wrapped function from the wrapper itself."
   ]
  },
  {
   "cell_type": "code",
   "execution_count": 9,
   "id": "2f75d0ed-7e47-49fc-a029-6e5ced22973d",
   "metadata": {
    "tags": []
   },
   "outputs": [
    {
     "data": {
      "text/plain": [
       "'hello, hello, teddy'"
      ]
     },
     "execution_count": 9,
     "metadata": {},
     "output_type": "execute_result"
    }
   ],
   "source": [
    "def introspective_decorator(func):\n",
    "    @functools.wraps(func)\n",
    "    def wrapper(*args, **kwargs):\n",
    "        return func(*args, **kwargs)\n",
    "\n",
    "    return wrapper\n",
    "\n",
    "@introspective_decorator\n",
    "def double_hello(who=\"world\"):\n",
    "    return f\"hello, hello, {who}\"\n",
    "\n",
    "double_hello(\"teddy\")"
   ]
  },
  {
   "cell_type": "markdown",
   "id": "c2e6565e-f5cf-4c2e-a688-187f83ab63fd",
   "metadata": {},
   "source": [
    "Now if we inspect the wrapped function's definition,\n",
    "we see the underlying `double_hello` function."
   ]
  },
  {
   "cell_type": "code",
   "execution_count": 10,
   "id": "880dabf7-6d13-4f5f-bae3-b1ad1fa880ef",
   "metadata": {
    "tags": []
   },
   "outputs": [
    {
     "data": {
      "text/plain": [
       "<function __main__.double_hello(who='world')>"
      ]
     },
     "execution_count": 10,
     "metadata": {},
     "output_type": "execute_result"
    }
   ],
   "source": [
    "double_hello"
   ]
  },
  {
   "cell_type": "markdown",
   "id": "cfe58353-5140-47e6-baa2-b028957f662c",
   "metadata": {},
   "source": [
    "# Simple Timing Decorator\n",
    "\n",
    "This decorator measures the elapsed time of a single wrapped function\n",
    "(from [Real Python](https://realpython.com/primer-on-python-decorators/#timing-functions)).\n",
    "Useful to detect time-consuming functions."
   ]
  },
  {
   "cell_type": "code",
   "execution_count": 11,
   "id": "e0a09476-ce18-45b6-9f8a-0d9edec12f78",
   "metadata": {
    "tags": []
   },
   "outputs": [],
   "source": [
    "def timer(func):\n",
    "    @functools.wraps(func)\n",
    "    def wrapper_timer(*args, **kwargs):\n",
    "        start_time = time.perf_counter()\n",
    "        value = func(*args, **kwargs)\n",
    "        end_time = time.perf_counter()\n",
    "        run_time = end_time - start_time\n",
    "        print(f\"Finished {func.__name__!r} in {run_time:.4f} secs\")\n",
    "        return value\n",
    "    return wrapper_timer"
   ]
  },
  {
   "cell_type": "markdown",
   "id": "4b66789e-fc18-497d-9e21-9b2ec27fe865",
   "metadata": {},
   "source": [
    "Here's a naive function to calculate the $n^{th}$ Fibonacci number;\n",
    "it is famously inefficient.\n",
    "Note that the `@timer` decorator is on a helper function\n",
    "so that we get only a single result.\n",
    "If we decorated `dumb_fibonacci` itself,\n",
    "the decorator would report a time on every recursive call."
   ]
  },
  {
   "cell_type": "code",
   "execution_count": 12,
   "id": "ad42bd54-3cd0-45fd-91dc-5003be0d7453",
   "metadata": {
    "tags": []
   },
   "outputs": [
    {
     "name": "stdout",
     "output_type": "stream",
     "text": [
      "Finished 'dumb_fib' in 1.5375 secs\n",
      "14930352\n"
     ]
    }
   ],
   "source": [
    "def dumb_fibonacci(n: int) -> int:\n",
    "    if n < 2:\n",
    "        return 1\n",
    "    else:\n",
    "        return dumb_fibonacci(n - 1) + dumb_fibonacci(n - 2)\n",
    "\n",
    "@timer\n",
    "def dumb_fib(n: int):\n",
    "    return dumb_fibonacci(n)\n",
    "\n",
    "print(dumb_fib(35))"
   ]
  },
  {
   "cell_type": "markdown",
   "id": "fe2bab5d-52e9-4ee5-8f83-3bdf09f21b9c",
   "metadata": {},
   "source": [
    "A smarter version of the function memoizes (caches) intermediate results.\n",
    "Compare the timing data."
   ]
  },
  {
   "cell_type": "code",
   "execution_count": 13,
   "id": "4b9be97a-4d9b-436c-b53b-c3df272b4670",
   "metadata": {
    "tags": []
   },
   "outputs": [
    {
     "name": "stdout",
     "output_type": "stream",
     "text": [
      "Finished 'memoized_fib' in 0.0000 secs\n",
      "14930352\n"
     ]
    }
   ],
   "source": [
    "@functools.cache\n",
    "def memoized_fibonacci(n: int) -> int:\n",
    "    if n < 2:\n",
    "        return 1\n",
    "    else:\n",
    "        return memoized_fibonacci(n - 1) + memoized_fibonacci(n - 2)\n",
    "    \n",
    "@timer\n",
    "def memoized_fib(n: int) -> int:\n",
    "    return memoized_fibonacci(n)\n",
    "\n",
    "print(memoized_fib(35))"
   ]
  },
  {
   "cell_type": "markdown",
   "id": "4d2e24cf-aafb-4814-a35f-ef3717f23d36",
   "metadata": {},
   "source": [
    "# Call Counting Decorator\n",
    "\n",
    "If detailed timing is not required,\n",
    "simply counting function invocations can be helpful.\n",
    "Here's a _class-based_ decorator that does just that\n",
    "(from [Real Python](https://realpython.com/primer-on-python-decorators/#classes-as-decorators)).\n",
    "Class-based decorators can be simpler than function-based ones\n",
    "when the decorator needs to retain state."
   ]
  },
  {
   "cell_type": "code",
   "execution_count": 14,
   "id": "e38acb0c-5778-41a7-b2f8-020ddec088cd",
   "metadata": {
    "tags": []
   },
   "outputs": [
    {
     "name": "stdout",
     "output_type": "stream",
     "text": [
      "Call 1 of 'classic_hello'\n",
      "hello, world\n",
      "Call 2 of 'classic_hello'\n",
      "hello, world\n",
      "Call 3 of 'classic_hello'\n",
      "hello, world\n",
      "Call 4 of 'classic_hello'\n",
      "hello, world\n",
      "Call 5 of 'classic_hello'\n",
      "hello, world\n",
      "Call 6 of 'classic_hello'\n",
      "hello, world\n",
      "Call 7 of 'classic_hello'\n",
      "hello, world\n"
     ]
    }
   ],
   "source": [
    "class CountCalls:\n",
    "    def __init__(self, func):\n",
    "        functools.update_wrapper(self, func)\n",
    "        self.func = func\n",
    "        self.num_calls = 0\n",
    "\n",
    "    def __call__(self, *args, **kwargs):\n",
    "        self.num_calls += 1\n",
    "        print(f\"Call {self.num_calls} of {self.func.__name__!r}\")\n",
    "        return self.func(*args, **kwargs)\n",
    "\n",
    "@CountCalls\n",
    "def classic_hello():\n",
    "    print(\"hello, world\")\n",
    "\n",
    "for i in range(7):\n",
    "    classic_hello()"
   ]
  },
  {
   "cell_type": "markdown",
   "id": "b6bb5d2e-bf1b-406e-8f7e-f2aa9ac1bd52",
   "metadata": {},
   "source": [
    "# Profiling Decorator\n",
    "\n",
    "This decorator of mine captures profiling data \n",
    "for the wrapped function \n",
    "and all the functions that it invokes (recursively).\n",
    "It also accepts parameters to customize its behavior:\n",
    "\n",
    "* `print_report`&mdash;generates a profile report directly to `stdout`\n",
    "* `save_report`&mdash;captures profile data in a file for later analysis\n",
    "* `file_name`&mdash;sets the name of the profile data file instead of the default time-stamped file name.\n",
    "\n",
    "The `Profile` class collects, interprets, and reports the profile data.\n",
    "\n",
    "The common idiom for accepting parameters in a decorator\n",
    "is to introduce a _third_ level of function nesting,\n",
    "as illustrated here.\n",
    "In the outermost scope, we make use of the arguments passed to the decorator.\n",
    "We still must observe the normal decorator protocol:\n",
    "return a function (here, `outer_wrapper`) \n",
    "that accepts a function (the wrapped function)\n",
    "and returns a decorated version."
   ]
  },
  {
   "cell_type": "code",
   "execution_count": 33,
   "id": "adb121c5-0637-4a73-947e-e21dadf7eb30",
   "metadata": {
    "tags": []
   },
   "outputs": [],
   "source": [
    "def profile_function(print_report=False, save_report=True, file_name=None):\n",
    "\n",
    "    def report(pr):\n",
    "        if print_report:\n",
    "            sio = io.StringIO()\n",
    "            ps = pstats.Stats(pr, stream=sio).strip_dirs().sort_stats('cumulative')\n",
    "            ps.print_stats()\n",
    "            print(sio.getvalue())\n",
    "        if save_report:\n",
    "            dump_file_name = file_name or f\"profile-stats.{datetime.now().isoformat()}\"\n",
    "            pr.dump_stats(dump_file_name)\n",
    "\n",
    "    def outer_wrapper(func):\n",
    "        @functools.wraps(func)\n",
    "        def inner_wrapper(*args, **kwargs):\n",
    "            pr = Profile()\n",
    "            pr.enable()\n",
    "            value = func(*args, **kwargs)\n",
    "            pr.disable()\n",
    "            report(pr)\n",
    "            return value\n",
    "        return inner_wrapper\n",
    "    return outer_wrapper"
   ]
  },
  {
   "cell_type": "markdown",
   "id": "dd68a2cc-1cf6-410d-9aea-78847935f63c",
   "metadata": {},
   "source": [
    "## Menagerie of Sort Functions\n",
    "\n",
    "Following are sorting functions\n",
    "(cribbed from [Rosetta Code](https://rosettacode.org/wiki/Rosetta_Code))\n",
    "with various computational complexities.\n",
    "We'll use these for illustrating profiling and timing.\n",
    "\n",
    "### Quick Sort &mdash; $O(n \\lg n)$\n",
    "\n",
    "(Note that Jupyter + Markdown can render $\\LaTeX$-compatible output!)"
   ]
  },
  {
   "cell_type": "code",
   "execution_count": 16,
   "id": "f799cc80-90cb-47c9-a722-1de764f53e6d",
   "metadata": {
    "tags": []
   },
   "outputs": [],
   "source": [
    "def quick_sort(arr):\n",
    "    less = []\n",
    "    pivot_list = []\n",
    "    more = []\n",
    "\n",
    "    if len(arr) <= 1:\n",
    "        return arr\n",
    "\n",
    "    pivot = arr[0]\n",
    "    for i in arr:\n",
    "        if i < pivot:\n",
    "            less.append(i)\n",
    "        elif i > pivot:\n",
    "            more.append(i)\n",
    "        else:\n",
    "            pivot_list.append(i)\n",
    "\n",
    "    less = quick_sort(less)\n",
    "    more = quick_sort(more)\n",
    "    return less + pivot_list + more"
   ]
  },
  {
   "cell_type": "markdown",
   "id": "7d15db8b-ef59-4251-ac3e-350c7b28c762",
   "metadata": {},
   "source": [
    "### Merge Sort &mdash; $O(n \\lg n)$"
   ]
  },
  {
   "cell_type": "code",
   "execution_count": 17,
   "id": "6994b0ef-b529-4881-b216-ca804237affb",
   "metadata": {
    "tags": []
   },
   "outputs": [],
   "source": [
    "def merge_sort(arr):\n",
    "    if len(arr) <= 1:\n",
    "        return arr\n",
    "\n",
    "    middle = len(arr) // 2\n",
    "    left = arr[:middle]\n",
    "    right = arr[middle:]\n",
    "\n",
    "    left = merge_sort(left)\n",
    "    right = merge_sort(right)\n",
    "    return list(merge(left, right))"
   ]
  },
  {
   "cell_type": "markdown",
   "id": "a9e51101-9f46-4ac4-b045-8033400b201e",
   "metadata": {},
   "source": [
    "### Shell Sort &mdash; $O(n \\lg^2 n)$"
   ]
  },
  {
   "cell_type": "code",
   "execution_count": 18,
   "id": "ed40d620-7712-43b5-8d96-4427f86e18f4",
   "metadata": {
    "tags": []
   },
   "outputs": [],
   "source": [
    "def shell_sort(arr):\n",
    "    arr_copy = arr[:]  # Sorts in place; make a duplicate.\n",
    "    inc = len(arr_copy) // 2\n",
    "    while inc:\n",
    "        for i, el in enumerate(arr_copy[inc:], inc):\n",
    "            while i >= inc and arr_copy[i - inc] > el:\n",
    "                arr_copy[i] = arr_copy[i - inc]\n",
    "                i -= inc\n",
    "            arr_copy[i] = el\n",
    "        inc = 1 if inc == 2 else inc * 5 // 11\n",
    "    return arr_copy"
   ]
  },
  {
   "cell_type": "markdown",
   "id": "3206a515-56f3-4731-96a5-dcd089092e3c",
   "metadata": {},
   "source": [
    "### Bubble Sort &mdash; $O(n^2)$\n",
    "\n",
    "(Use this for real and have your programming license revoked.)"
   ]
  },
  {
   "cell_type": "code",
   "execution_count": 19,
   "id": "9405e9a4-fea9-4794-a233-794854d3f233",
   "metadata": {
    "tags": []
   },
   "outputs": [],
   "source": [
    "def bubble_sort(arr):\n",
    "    arr_copy = arr[:]  # Sorts in place\n",
    "    changed = True\n",
    "    while changed:\n",
    "        changed = False\n",
    "        for i in range(len(arr_copy) - 1):\n",
    "            if arr_copy[i] > arr_copy[i + 1]:\n",
    "                arr_copy[i], arr_copy[i + 1] = arr_copy[i + 1], arr_copy[i]\n",
    "                changed = True\n",
    "    return arr_copy"
   ]
  },
  {
   "cell_type": "markdown",
   "id": "8f575485-d29a-43f2-b9b3-2b3c382bea84",
   "metadata": {},
   "source": [
    "Define a convenience function that returns all the sort functions."
   ]
  },
  {
   "cell_type": "code",
   "execution_count": 20,
   "id": "9eefb030-08ce-4e68-a2f0-a6a93d26eea1",
   "metadata": {
    "tags": []
   },
   "outputs": [],
   "source": [
    "def all_sort_funcs(by_name=False):\n",
    "    funcs = [quick_sort, merge_sort, shell_sort, bubble_sort]\n",
    "    if by_name:\n",
    "        return [func.__name__ for func in funcs]\n",
    "    return funcs"
   ]
  },
  {
   "cell_type": "markdown",
   "id": "00530ce0-db32-4fa6-9c8c-82d243c2b621",
   "metadata": {},
   "source": [
    "## Test Driver\n",
    "\n",
    "The `profile_all_the_things` function exercises all the sort functions,\n",
    "giving our profile decorator something to observe.\n",
    "\n",
    "Normally, I would not pass a `file_name` argument, \n",
    "which would cause all profiled functions to overwrite the data file.\n",
    "However, doing so here makes it easy to run `snakeviz` later on."
   ]
  },
  {
   "cell_type": "code",
   "execution_count": 39,
   "id": "792c5cb0-6b74-4d23-8dd2-cfe5ad23e8ea",
   "metadata": {
    "tags": []
   },
   "outputs": [],
   "source": [
    "MAX_BUBBLE_SIZE = 2_500    # Life is too short for Bubble Sort.\n",
    "\n",
    "def scramble_array(size: int) -> list[int]:\n",
    "    original = list(range(size))\n",
    "    scramble = original[:]\n",
    "    random.shuffle(scramble)  # In place\n",
    "    return original, scramble\n",
    "\n",
    "@profile_function(print_report=True, file_name=\"./profile-output.data\")\n",
    "def profile_all_the_things(array_size=MAX_BUBBLE_SIZE):\n",
    "    original_data, scrambled_data = scramble_array(array_size)\n",
    "    \n",
    "    for sort_func in all_sort_funcs():\n",
    "        if sort_func != bubble_sort or array_size <= MAX_BUBBLE_SIZE:\n",
    "            sorted_data = sort_func(scrambled_data)\n",
    "            assert sorted_data == original_data"
   ]
  },
  {
   "cell_type": "markdown",
   "id": "568e3d3e-9860-4f5b-9180-d3f404618a64",
   "metadata": {},
   "source": [
    "## Sample Output"
   ]
  },
  {
   "cell_type": "code",
   "execution_count": 40,
   "id": "7e330ea4-bbe3-4ced-a732-05ffcc166015",
   "metadata": {
    "tags": []
   },
   "outputs": [
    {
     "name": "stdout",
     "output_type": "stream",
     "text": [
      "         132839 function calls (124493 primitive calls) in 1.309 seconds\n",
      "\n",
      "   Ordered by: cumulative time\n",
      "\n",
      "   ncalls  tottime  percall  cumtime  percall filename:lineno(function)\n",
      "        1    0.000    0.000    1.309    1.309 2916674011.py:9(profile_all_the_things)\n",
      "        1    1.180    1.180    1.181    1.181 921437118.py:1(bubble_sort)\n",
      "   4999/1    0.030    0.000    0.078    0.078 2688225294.py:1(merge_sort)\n",
      "    30903    0.037    0.000    0.047    0.000 heapq.py:316(merge)\n",
      "   3349/1    0.022    0.000    0.027    0.027 1191435030.py:1(quick_sort)\n",
      "        1    0.014    0.014    0.014    0.014 1941458220.py:1(shell_sort)\n",
      "        1    0.000    0.000    0.008    0.008 2916674011.py:3(scramble_array)\n",
      "        1    0.003    0.003    0.008    0.008 random.py:376(shuffle)\n",
      "    22655    0.005    0.000    0.005    0.000 {built-in method _heapq.heapreplace}\n",
      "    39101    0.005    0.000    0.005    0.000 {method 'append' of 'list' objects}\n",
      "     2499    0.004    0.000    0.005    0.000 random.py:235(_randbelow_with_getrandbits)\n",
      "    18213    0.003    0.000    0.003    0.000 {built-in method builtins.len}\n",
      "     2499    0.002    0.000    0.002    0.000 {built-in method _heapq.heappop}\n",
      "     2499    0.001    0.000    0.001    0.000 {built-in method _heapq.heapify}\n",
      "     3616    0.001    0.000    0.001    0.000 {method 'getrandbits' of '_random.Random' objects}\n",
      "     2499    0.000    0.000    0.000    0.000 {method 'bit_length' of 'int' objects}\n",
      "        1    0.000    0.000    0.000    0.000 2706879397.py:1(all_sort_funcs)\n",
      "        1    0.000    0.000    0.000    0.000 {method 'disable' of '_lsprof.Profiler' objects}\n",
      "\n",
      "\n",
      "\n"
     ]
    }
   ],
   "source": [
    "profile_all_the_things(2_500)"
   ]
  },
  {
   "cell_type": "markdown",
   "id": "a7940134-5054-4852-8329-964533add23d",
   "metadata": {},
   "source": [
    "**How to Read the Profile Statistics**\n",
    "\n",
    "1. `ncalls`&mdash;number of calls\n",
    "1. `tottime` &mdash;total time spent in the function (excluding time in calls to sub-functions)\n",
    "1. `percall`&mdash;`tottime` divided by `ncalls`\n",
    "1. `cumtime`&mdash;cumulative time in this and all subfunctions\n",
    "1. `percall`&mdash;`cumtime` divided by primitive calls\n",
    "\n",
    "As expected, bubble sort takes the most time.\n",
    "Let's sort some larger lists.\n",
    "Because of the size of the lists, `profile_all_the_things` excludes bubble sort."
   ]
  },
  {
   "cell_type": "code",
   "execution_count": 38,
   "id": "06aa639a-15c1-45b4-9fc2-3b2d2779895f",
   "metadata": {
    "tags": []
   },
   "outputs": [
    {
     "name": "stdout",
     "output_type": "stream",
     "text": [
      "         10783749 function calls (10283577 primitive calls) in 5.725 seconds\n",
      "\n",
      "   Ordered by: cumulative time\n",
      "\n",
      "   ncalls  tottime  percall  cumtime  percall filename:lineno(function)\n",
      "        1    0.003    0.003    5.725    5.725 557529242.py:9(profile_all_the_things)\n",
      " 299999/1    0.729    0.000    2.851    2.851 2688225294.py:1(merge_sort)\n",
      "  2737855    1.665    0.000    2.086    0.000 heapq.py:316(merge)\n",
      "        1    1.317    1.317    1.317    1.317 1941458220.py:1(shell_sort)\n",
      " 200175/1    1.043    0.000    1.301    1.301 1191435030.py:1(quick_sort)\n",
      "  2242251    0.287    0.000    0.287    0.000 {built-in method _heapq.heapreplace}\n",
      "  3535946    0.273    0.000    0.273    0.000 {method 'append' of 'list' objects}\n",
      "        1    0.007    0.007    0.254    0.254 557529242.py:3(scramble_array)\n",
      "        1    0.121    0.121    0.247    0.247 random.py:376(shuffle)\n",
      "   149999    0.094    0.000    0.126    0.000 random.py:235(_randbelow_with_getrandbits)\n",
      "   950173    0.078    0.000    0.078    0.000 {built-in method builtins.len}\n",
      "   149999    0.054    0.000    0.054    0.000 {built-in method _heapq.heapify}\n",
      "   149999    0.023    0.000    0.023    0.000 {built-in method _heapq.heappop}\n",
      "   217348    0.021    0.000    0.021    0.000 {method 'getrandbits' of '_random.Random' objects}\n",
      "   149999    0.011    0.000    0.011    0.000 {method 'bit_length' of 'int' objects}\n",
      "        1    0.000    0.000    0.000    0.000 2706879397.py:1(all_sort_funcs)\n",
      "        1    0.000    0.000    0.000    0.000 {method 'disable' of '_lsprof.Profiler' objects}\n",
      "\n",
      "\n",
      "\n"
     ]
    }
   ],
   "source": [
    "profile_all_the_things(150_000)"
   ]
  },
  {
   "cell_type": "markdown",
   "id": "f578ede4-cb25-4344-b399-a315cc10f306",
   "metadata": {},
   "source": [
    "## Visualization: SnakeViz\n",
    "\n",
    "[SnakeViz](https://jiffyclub.github.io/snakeviz/)\n",
    "is a handy visualization tool for profiler output files.\n",
    "\n",
    "Remove the comment from the following line to run it against the most recent profile output file."
   ]
  },
  {
   "cell_type": "code",
   "execution_count": 42,
   "id": "a6195123-e8b1-4d2d-817e-b65610063541",
   "metadata": {
    "tags": []
   },
   "outputs": [],
   "source": [
    "# !snakeviz ./profile-output.data"
   ]
  },
  {
   "cell_type": "markdown",
   "id": "66591cc0-931d-41ee-b261-4683f2bf421e",
   "metadata": {},
   "source": [
    "# MultiTimer\n",
    "\n",
    "It can be helpful to measure the timing \n",
    "of multiple steps or stages of the same operation.\n",
    "My `MultiTimer` class provides a convenient way to\n",
    "collect and report such information.\n",
    "It defines these methods:\n",
    "\n",
    "1. `start`&mdash;kick off a series of timings\n",
    "1. `reset`&mdash;reset the entire timing object\n",
    "1. `record`&mdash;record a time; similar to the _Split_ button on a stopwatch\n",
    "1. `report`&mdash;print nicely formatted results"
   ]
  },
  {
   "cell_type": "code",
   "execution_count": 24,
   "id": "f368065f-0a7c-446f-86a8-c4e2d238c421",
   "metadata": {
    "tags": []
   },
   "outputs": [],
   "source": [
    "@dataclass\n",
    "class MTRecord:\n",
    "    label: str\n",
    "    time: int\n",
    "    flags: int\n",
    "\n",
    "\n",
    "class MTState(Enum):\n",
    "    READY = \"ready\",\n",
    "    RUNNING = \"started\",\n",
    "    STOPPED = \"stopped\"\n",
    "\n",
    "\n",
    "class MultiTimer:\n",
    "    def __init__(self, title=None) -> None:\n",
    "        self.title = title\n",
    "        self.records: list[MTRecord] = []\n",
    "        self.state: MTState = MTState.READY\n",
    "\n",
    "    def start(self) -> None:\n",
    "        assert self.state is MTState.READY\n",
    "        self.state = MTState.RUNNING\n",
    "        self.record('[START]')\n",
    "\n",
    "    def reset(self) -> None:\n",
    "        assert self.state is MTState.STOPPED\n",
    "        self.records = []\n",
    "        self.state = MTState.READY\n",
    "\n",
    "    def record(self, label: str, flags=0) -> None:\n",
    "        assert self.state is MTState.RUNNING\n",
    "        self.records.append(MTRecord(label, time.perf_counter_ns(), flags))\n",
    "\n",
    "    @staticmethod\n",
    "    def ns_to_sec(ns: int) -> float:\n",
    "        return float(ns) / 1_000_000_000\n",
    "\n",
    "    def report(self, prefix=\"\") -> str:\n",
    "        assert self.state is MTState.RUNNING\n",
    "        self.record(\"[STOP]\")\n",
    "        self.state = MTState.STOPPED\n",
    "\n",
    "        prefix_width = len(prefix) + 1 if prefix else 0\n",
    "        max_label_width = max([len(record.label) for record in self.records])\n",
    "        record_count = len(self.records)\n",
    "        total_time = self.records[-1].time - self.records[0].time\n",
    "       \n",
    "        header = \"{label:{label_width}s} {prof_time:>15s}  {dur_s:>15s}  {per:>8s}\".format(\n",
    "            label=\"Label\",\n",
    "            label_width=max_label_width + prefix_width,\n",
    "            prof_time=\"Time Stamp\",\n",
    "            dur_s=\"Elapsed (s)\",\n",
    "            per=\"% Time\"\n",
    "        )\n",
    "\n",
    "        lines = [\n",
    "            \"---{}\".format(f\" {self.title}\" if self.title else \"\"),\n",
    "             header\n",
    "        ]\n",
    "\n",
    "        for i in range(record_count):\n",
    "            fields: list[str] = []\n",
    "            if prefix:\n",
    "                fields.append(prefix)\n",
    "\n",
    "            fields.append(f\"{self.records[i].label:{max_label_width}}\")\n",
    "            fields.append(f\"{self.records[i].time:15d}\")\n",
    "\n",
    "            if i < record_count - 1:\n",
    "                elapsed_time = self.records[i + 1].time - self.records[i].time\n",
    "\n",
    "                time_sec = self.ns_to_sec(elapsed_time)\n",
    "                fields.append(f\"{time_sec:16.9f}\")\n",
    "\n",
    "                percentage = elapsed_time / total_time * 100.0\n",
    "                fields.append(f\"{percentage:9.2f}\")\n",
    "            else:\n",
    "                fields.append(f\"[{self.ns_to_sec(total_time):15.9f}]\")\n",
    "                fields.append(f\"{100.0:8.2f}\")\n",
    "\n",
    "            if self.records[i].flags > 0:\n",
    "                fields.append(\" \" + \"*\" * self.records[i].flags)\n",
    "\n",
    "            lines.append(\" \".join(fields))\n",
    "\n",
    "        return \"\\n\".join(lines)"
   ]
  },
  {
   "cell_type": "markdown",
   "id": "1b7ef6a0-cc37-48e6-8988-29e1ae9ff3f1",
   "metadata": {},
   "source": [
    "Define a test function that will run all the sorts,\n",
    "timing each one using `MultiTimer`."
   ]
  },
  {
   "cell_type": "code",
   "execution_count": 25,
   "id": "1a6d2277-6a59-4c93-b5b4-9ff0735675a8",
   "metadata": {
    "tags": []
   },
   "outputs": [],
   "source": [
    "def time_all_the_things(array_size=MAX_BUBBLE_SIZE):\n",
    "    original_data, scrambled_data = scramble_array(array_size)\n",
    "    mt = MultiTimer(f\"{array_size} element array\")\n",
    "    mt.start()\n",
    "    \n",
    "    for sort_func in all_sort_funcs():\n",
    "        if sort_func != bubble_sort or array_size <= MAX_BUBBLE_SIZE:\n",
    "            mt.record(sort_func.__name__)\n",
    "            sorted_data = sort_func(scrambled_data)\n",
    "            assert sorted_data == original_data\n",
    "    print(mt.report())"
   ]
  },
  {
   "cell_type": "code",
   "execution_count": 26,
   "id": "3c8efeeb-87b3-492b-8a13-96194d8eeb68",
   "metadata": {
    "tags": []
   },
   "outputs": [
    {
     "name": "stdout",
     "output_type": "stream",
     "text": [
      "--- 2500 element array\n",
      "Label            Time Stamp      Elapsed (s)    % Time\n",
      "[START]     103047697966948      0.000008953      0.00\n",
      "quick_sort  103047697975901      0.003181297      0.74\n",
      "merge_sort  103047701157198      0.011404886      2.66\n",
      "shell_sort  103047712562084      0.003420130      0.80\n",
      "bubble_sort 103047715982214      0.410251783     95.79\n",
      "[STOP]      103048126233997 [    0.428267049]   100.00\n"
     ]
    }
   ],
   "source": [
    "time_all_the_things()"
   ]
  },
  {
   "cell_type": "markdown",
   "id": "d0ad9551-0f57-462a-8cac-bff74d05eeb5",
   "metadata": {},
   "source": [
    "**How to Read `MultiTimer` Output**\n",
    "\n",
    "1. **Label** is the value passed to `report`, except for `[START]` and `[STOP]`, which record the moment that `start` and `report` were called, respectively.\n",
    "1. **Time Stamp** is the time reported by Python's `time.perf_counter_ns` function (unit of nanoseconds); our only interest is in deltas between values\n",
    "1. **Elapsed** is the elapsed time of each entry (reported in seconds with nanosecond accuracy). The final value in the column is the _total_ elapsed time recorded by the `MultiTimer`.\n",
    "1. **% Time** shows the percentage of the total time taken by each entry.\n",
    "\n",
    "Let's run again with larger lists. Again, bubble sort is pruned out."
   ]
  },
  {
   "cell_type": "code",
   "execution_count": 27,
   "id": "7f893bfd-830e-421d-9c3a-333da39dcf43",
   "metadata": {
    "tags": []
   },
   "outputs": [
    {
     "name": "stdout",
     "output_type": "stream",
     "text": [
      "--- 250000 element array\n",
      "Label           Time Stamp      Elapsed (s)    % Time\n",
      "[START]    103048249104654      0.000008115      0.00\n",
      "quick_sort 103048249112769      0.411410457     17.16\n",
      "merge_sort 103048660523226      1.241700052     51.79\n",
      "shell_sort 103049902223278      0.744480179     31.05\n",
      "[STOP]     103050646703457 [    2.397598803]   100.00\n"
     ]
    }
   ],
   "source": [
    "time_all_the_things(250_000)"
   ]
  },
  {
   "cell_type": "markdown",
   "id": "903d197a-1d97-43c8-add2-87b4bf00deea",
   "metadata": {},
   "source": [
    "# Simple Scalability Analysis\n",
    "\n",
    "We can analyze the scalability of a function\n",
    "by measuring the run time for different sized inputs.\n",
    "\n",
    "First, define a function that will give us some timing data.\n",
    "This is similar to the simple timing decorator, above,\n",
    "but is just a normal inline function.\n",
    "It invokes an arbitrary function with arguments, and returns a tuple of `(runtime, value)`"
   ]
  },
  {
   "cell_type": "code",
   "execution_count": 28,
   "id": "d93cd8e4-670d-4618-a67e-c15b610dfae8",
   "metadata": {
    "tags": []
   },
   "outputs": [],
   "source": [
    "def inline_timer(func, *args, **kwargs):\n",
    "    \"\"\"Invoke `func` with arguments; return elapsed time and return value\"\"\"\n",
    "    start_time = time.perf_counter()\n",
    "    value = func(*args, **kwargs)\n",
    "    end_time = time.perf_counter()\n",
    "    run_time = end_time - start_time\n",
    "    return run_time, value"
   ]
  },
  {
   "cell_type": "markdown",
   "id": "6e78eb46-a59b-4a93-b765-8fb48bcd5cde",
   "metadata": {},
   "source": [
    "## Capturing Data in Pandas\n",
    "\n",
    "[Pandas](https://pandas.pydata.org/)\n",
    "is a Python package that\n",
    "(with [NumPy](https://numpy.org/))\n",
    "is at the heart of the Python-based\n",
    "data science, analytics, and visualization ecosystem.\n",
    "\n",
    "Pandas supports two main data structures:\n",
    "\n",
    "1. The `Series` object, which is an indexed, _one_-dimensional array of homogeneous values.\n",
    "1. The `DataFrame` object, which is an indexed, _two_-dimensional array, where each column is a `Series` object. Thus, a `DataFrame` is heterogeneous overall, but homegeneous within each column.\n",
    "\n",
    "We'll use a `DataFrame` to capture performance data from each of our sort functions\n",
    "on various array sizes."
   ]
  },
  {
   "cell_type": "code",
   "execution_count": 29,
   "id": "2181fa26-2f1e-4b41-b44d-15280b942903",
   "metadata": {
    "tags": []
   },
   "outputs": [
    {
     "data": {
      "text/html": [
       "<div>\n",
       "<style scoped>\n",
       "    .dataframe tbody tr th:only-of-type {\n",
       "        vertical-align: middle;\n",
       "    }\n",
       "\n",
       "    .dataframe tbody tr th {\n",
       "        vertical-align: top;\n",
       "    }\n",
       "\n",
       "    .dataframe thead th {\n",
       "        text-align: right;\n",
       "    }\n",
       "</style>\n",
       "<table border=\"1\" class=\"dataframe\">\n",
       "  <thead>\n",
       "    <tr style=\"text-align: right;\">\n",
       "      <th></th>\n",
       "      <th>quick_sort</th>\n",
       "      <th>merge_sort</th>\n",
       "      <th>shell_sort</th>\n",
       "      <th>bubble_sort</th>\n",
       "    </tr>\n",
       "  </thead>\n",
       "  <tbody>\n",
       "    <tr>\n",
       "      <th>1</th>\n",
       "      <td>0.000001</td>\n",
       "      <td>0.000001</td>\n",
       "      <td>0.000002</td>\n",
       "      <td>0.000002</td>\n",
       "    </tr>\n",
       "    <tr>\n",
       "      <th>100</th>\n",
       "      <td>0.000076</td>\n",
       "      <td>0.000434</td>\n",
       "      <td>0.000059</td>\n",
       "      <td>0.000539</td>\n",
       "    </tr>\n",
       "    <tr>\n",
       "      <th>1000</th>\n",
       "      <td>0.000955</td>\n",
       "      <td>0.003980</td>\n",
       "      <td>0.001216</td>\n",
       "      <td>0.063847</td>\n",
       "    </tr>\n",
       "    <tr>\n",
       "      <th>2500</th>\n",
       "      <td>0.002263</td>\n",
       "      <td>0.009511</td>\n",
       "      <td>0.003437</td>\n",
       "      <td>0.421091</td>\n",
       "    </tr>\n",
       "    <tr>\n",
       "      <th>5000</th>\n",
       "      <td>0.004546</td>\n",
       "      <td>0.018235</td>\n",
       "      <td>0.006950</td>\n",
       "      <td>NaN</td>\n",
       "    </tr>\n",
       "    <tr>\n",
       "      <th>10000</th>\n",
       "      <td>0.011237</td>\n",
       "      <td>0.039720</td>\n",
       "      <td>0.016850</td>\n",
       "      <td>NaN</td>\n",
       "    </tr>\n",
       "    <tr>\n",
       "      <th>20000</th>\n",
       "      <td>0.022612</td>\n",
       "      <td>0.084241</td>\n",
       "      <td>0.036202</td>\n",
       "      <td>NaN</td>\n",
       "    </tr>\n",
       "    <tr>\n",
       "      <th>50000</th>\n",
       "      <td>0.061037</td>\n",
       "      <td>0.220043</td>\n",
       "      <td>0.111327</td>\n",
       "      <td>NaN</td>\n",
       "    </tr>\n",
       "    <tr>\n",
       "      <th>100000</th>\n",
       "      <td>0.131006</td>\n",
       "      <td>0.462707</td>\n",
       "      <td>0.284928</td>\n",
       "      <td>NaN</td>\n",
       "    </tr>\n",
       "    <tr>\n",
       "      <th>250000</th>\n",
       "      <td>0.374771</td>\n",
       "      <td>1.238637</td>\n",
       "      <td>0.829284</td>\n",
       "      <td>NaN</td>\n",
       "    </tr>\n",
       "  </tbody>\n",
       "</table>\n",
       "</div>"
      ],
      "text/plain": [
       "        quick_sort  merge_sort  shell_sort  bubble_sort\n",
       "1         0.000001    0.000001    0.000002     0.000002\n",
       "100       0.000076    0.000434    0.000059     0.000539\n",
       "1000      0.000955    0.003980    0.001216     0.063847\n",
       "2500      0.002263    0.009511    0.003437     0.421091\n",
       "5000      0.004546    0.018235    0.006950          NaN\n",
       "10000     0.011237    0.039720    0.016850          NaN\n",
       "20000     0.022612    0.084241    0.036202          NaN\n",
       "50000     0.061037    0.220043    0.111327          NaN\n",
       "100000    0.131006    0.462707    0.284928          NaN\n",
       "250000    0.374771    1.238637    0.829284          NaN"
      ]
     },
     "execution_count": 29,
     "metadata": {},
     "output_type": "execute_result"
    }
   ],
   "source": [
    "sizes = [\n",
    "    1, 100, 1_000, 2_500, 5_000, \n",
    "    10_000, 20_000, 50_000,\n",
    "    100_000, 250_000\n",
    "]\n",
    "\n",
    "def scale_all_the_things():\n",
    "    data_frame = pd.DataFrame(index=sizes, \n",
    "                              columns=all_sort_funcs(by_name=True),\n",
    "                              dtype='float64')\n",
    "\n",
    "    for size in sizes:\n",
    "        original_data, scrambled_data = scramble_array(size)\n",
    "        for sort_func in all_sort_funcs():\n",
    "            if sort_func == bubble_sort and size > MAX_BUBBLE_SIZE:\n",
    "                continue\n",
    "            elapsed, sorted_data = inline_timer(sort_func, scrambled_data)\n",
    "            assert sorted_data == original_data\n",
    "            # Store the elapsed time in the DataFrame\n",
    "            data_frame.loc[size, sort_func.__name__] = float(elapsed)\n",
    "    return data_frame\n",
    "            \n",
    "data_frame = scale_all_the_things()\n",
    "data_frame"
   ]
  },
  {
   "cell_type": "markdown",
   "id": "667c1137-8586-4fa3-a2cd-2ff7d8c18671",
   "metadata": {},
   "source": [
    "Because we didn't initialize the contents of the `DataFrame`\n",
    "the final version has some `NaN` (_Not a Number_) values\n",
    "for the bubble sort invocations that we skipped."
   ]
  },
  {
   "cell_type": "markdown",
   "id": "53e6682a-4891-47b1-8dff-2f6f2567badd",
   "metadata": {},
   "source": [
    "## Descriptive Statistics\n",
    "\n",
    "Pandas can slice and dice `Series` and `DataFrame` objects in myriad ways.\n",
    "Here's a simple example of some descriptive statistics\n",
    "that are just the tip of the analytical iceberg.\n",
    "\n",
    "Note that this function skips any `NaN` values in the `DataFrame`."
   ]
  },
  {
   "cell_type": "code",
   "execution_count": 30,
   "id": "d1c38728-e758-49dd-bd82-fe0b6aa724de",
   "metadata": {
    "tags": []
   },
   "outputs": [
    {
     "data": {
      "text/html": [
       "<div>\n",
       "<style scoped>\n",
       "    .dataframe tbody tr th:only-of-type {\n",
       "        vertical-align: middle;\n",
       "    }\n",
       "\n",
       "    .dataframe tbody tr th {\n",
       "        vertical-align: top;\n",
       "    }\n",
       "\n",
       "    .dataframe thead th {\n",
       "        text-align: right;\n",
       "    }\n",
       "</style>\n",
       "<table border=\"1\" class=\"dataframe\">\n",
       "  <thead>\n",
       "    <tr style=\"text-align: right;\">\n",
       "      <th></th>\n",
       "      <th>quick_sort</th>\n",
       "      <th>merge_sort</th>\n",
       "      <th>shell_sort</th>\n",
       "      <th>bubble_sort</th>\n",
       "    </tr>\n",
       "  </thead>\n",
       "  <tbody>\n",
       "    <tr>\n",
       "      <th>count</th>\n",
       "      <td>10.000000</td>\n",
       "      <td>10.000000</td>\n",
       "      <td>10.000000</td>\n",
       "      <td>4.000000</td>\n",
       "    </tr>\n",
       "    <tr>\n",
       "      <th>mean</th>\n",
       "      <td>0.060850</td>\n",
       "      <td>0.207751</td>\n",
       "      <td>0.129025</td>\n",
       "      <td>0.121370</td>\n",
       "    </tr>\n",
       "    <tr>\n",
       "      <th>std</th>\n",
       "      <td>0.117841</td>\n",
       "      <td>0.390761</td>\n",
       "      <td>0.261719</td>\n",
       "      <td>0.202049</td>\n",
       "    </tr>\n",
       "    <tr>\n",
       "      <th>min</th>\n",
       "      <td>0.000001</td>\n",
       "      <td>0.000001</td>\n",
       "      <td>0.000002</td>\n",
       "      <td>0.000002</td>\n",
       "    </tr>\n",
       "    <tr>\n",
       "      <th>25%</th>\n",
       "      <td>0.001282</td>\n",
       "      <td>0.005363</td>\n",
       "      <td>0.001771</td>\n",
       "      <td>0.000405</td>\n",
       "    </tr>\n",
       "    <tr>\n",
       "      <th>50%</th>\n",
       "      <td>0.007892</td>\n",
       "      <td>0.028978</td>\n",
       "      <td>0.011900</td>\n",
       "      <td>0.032193</td>\n",
       "    </tr>\n",
       "    <tr>\n",
       "      <th>75%</th>\n",
       "      <td>0.051431</td>\n",
       "      <td>0.186092</td>\n",
       "      <td>0.092546</td>\n",
       "      <td>0.153158</td>\n",
       "    </tr>\n",
       "    <tr>\n",
       "      <th>max</th>\n",
       "      <td>0.374771</td>\n",
       "      <td>1.238637</td>\n",
       "      <td>0.829284</td>\n",
       "      <td>0.421091</td>\n",
       "    </tr>\n",
       "  </tbody>\n",
       "</table>\n",
       "</div>"
      ],
      "text/plain": [
       "       quick_sort  merge_sort  shell_sort  bubble_sort\n",
       "count   10.000000   10.000000   10.000000     4.000000\n",
       "mean     0.060850    0.207751    0.129025     0.121370\n",
       "std      0.117841    0.390761    0.261719     0.202049\n",
       "min      0.000001    0.000001    0.000002     0.000002\n",
       "25%      0.001282    0.005363    0.001771     0.000405\n",
       "50%      0.007892    0.028978    0.011900     0.032193\n",
       "75%      0.051431    0.186092    0.092546     0.153158\n",
       "max      0.374771    1.238637    0.829284     0.421091"
      ]
     },
     "execution_count": 30,
     "metadata": {},
     "output_type": "execute_result"
    }
   ],
   "source": [
    "data_frame.describe()"
   ]
  },
  {
   "cell_type": "markdown",
   "id": "bc4994ee-05bf-47b5-b00d-bb1d6cf51a70",
   "metadata": {},
   "source": [
    "## Data Visualization\n",
    "\n",
    "We can also leverage the Pandas integration with the \n",
    "[Matplotlib](https://matplotlib.org/)\n",
    "package to visualize performance data."
   ]
  },
  {
   "cell_type": "code",
   "execution_count": 31,
   "id": "cf68d8cb-9b5e-494b-bc45-d6e080e142d8",
   "metadata": {
    "tags": []
   },
   "outputs": [
    {
     "data": {
      "text/plain": [
       "Text(0.5, 1.0, 'Sort Function Scalability')"
      ]
     },
     "execution_count": 31,
     "metadata": {},
     "output_type": "execute_result"
    },
    {
     "data": {
      "image/png": "[encoded data removed]",
      "text/plain": [
       "<Figure size 640x480 with 1 Axes>"
      ]
     },
     "metadata": {},
     "output_type": "display_data"
    }
   ],
   "source": [
    "plt = data_frame.plot(xlabel=\"Array Size\", ylabel=\"Time (s)\")\n",
    "plt.set_title(\"Sort Function Scalability\")"
   ]
  },
  {
   "cell_type": "markdown",
   "id": "f8457277-8c59-4198-b239-5fadc3fae58d",
   "metadata": {},
   "source": [
    "# References\n",
    "\n",
    "* [The `wraps` function](https://docs.python.org/3/library/functools.html#functools.wraps),\n",
    "part of [the standard Python `functools` pacakge](https://docs.python.org/3/library/functools.html)\n",
    "* Real Python [Primer on Python Decorators](https://realpython.com/primer-on-python-decorators/)\n",
    "* [Rosetta Code](https://rosettacode.org/wiki/Rosetta_Code)\n",
    "* [Project Jupyter](https://jupyter.org/)\n",
    "* [SnakeViz](https://jiffyclub.github.io/snakeviz/)\n",
    "* [Pandas](https://pandas.pydata.org/)\n",
    "* [Matplotlib](https://matplotlib.org/)"
   ]
  }
 ],
 "metadata": {
  "authors": [
   {
    "name": "Dr. Tom Nurkkala"
   }
  ],
  "kernelspec": {
   "display_name": "Python 3 (ipykernel)",
   "language": "python",
   "name": "python3"
  },
  "language_info": {
   "codemirror_mode": {
    "name": "ipython",
    "version": 3
   },
   "file_extension": ".py",
   "mimetype": "text/x-python",
   "name": "python",
   "nbconvert_exporter": "python",
   "pygments_lexer": "ipython3",
   "version": "3.11.3"
  },
  "title": "Profiling Python Programs",
  "toc-autonumbering": true,
  "toc-showcode": false,
  "toc-showmarkdowntxt": false,
  "toc-showtags": false
 },
 "nbformat": 4,
 "nbformat_minor": 5
}
